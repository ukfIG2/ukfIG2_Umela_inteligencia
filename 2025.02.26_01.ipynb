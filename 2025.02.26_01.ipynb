{
 "cells": [
  {
   "cell_type": "markdown",
   "id": "2f235683-2b16-408d-9eed-c14f50170f06",
   "metadata": {},
   "source": [
    "# Toto je kod na zaciatok"
   ]
  },
  {
   "cell_type": "code",
   "execution_count": 10,
   "id": "56562b31-407f-45de-8f56-d97dddae15b1",
   "metadata": {},
   "outputs": [
    {
     "name": "stdout",
     "output_type": "stream",
     "text": [
      "Intent database: ['your name', 'weather', 'hockey', 'football']\n",
      "AI-BOT: Hello!\n"
     ]
    },
    {
     "name": "stdin",
     "output_type": "stream",
     "text": [
      "USER:  football\n"
     ]
    },
    {
     "name": "stdout",
     "output_type": "stream",
     "text": [
      "AI-BOT: It is also called 'Soccer' in North America.\n"
     ]
    },
    {
     "name": "stdin",
     "output_type": "stream",
     "text": [
      "USER:  football\n"
     ]
    },
    {
     "name": "stdout",
     "output_type": "stream",
     "text": [
      "AI-BOT: It is also called 'Soccer' in North America.\n"
     ]
    },
    {
     "name": "stdin",
     "output_type": "stream",
     "text": [
      "USER:  name\n"
     ]
    },
    {
     "name": "stdout",
     "output_type": "stream",
     "text": [
      "AI-BOT: How long have you felt this way?\n"
     ]
    },
    {
     "name": "stdin",
     "output_type": "stream",
     "text": [
      "USER:  your name\n"
     ]
    },
    {
     "name": "stdout",
     "output_type": "stream",
     "text": [
      "AI-BOT: I'm sorry, I didn't understand you.\n"
     ]
    },
    {
     "name": "stdin",
     "output_type": "stream",
     "text": [
      "USER:  bye\n"
     ]
    },
    {
     "name": "stdout",
     "output_type": "stream",
     "text": [
      "AI-BOT: Goodbye!\n"
     ]
    }
   ],
   "source": [
    "import random\n",
    "import re\n",
    "\n",
    "# Set of fallback responses\n",
    "no_responses = [\n",
    "    \"I'm sorry, I didn't understand you.\",\n",
    "    \"Why do you think that?\",\n",
    "    \"How long have you felt this way?\",\n",
    "    \"Tell me more!\"\n",
    "]\n",
    "\n",
    "# Dictionary of responses\n",
    "responses = {\n",
    "    \"your name\": [\n",
    "        \"My name is AI-BOT.\",\n",
    "        \"They call me AI-BOT.\",\n",
    "        \"I go by AI-BOT.\"\n",
    "    ],\n",
    "    \"weather\": [\n",
    "        \"The weather is sunny.\",\n",
    "        \"It's sunny today.\"\n",
    "    ],\n",
    "    \"hockey\": [\n",
    "        \"Good winter game!\",\n",
    "        \"We have to wait until the lake is frozen.\"\n",
    "    ],\n",
    "    \"football\": [\n",
    "        \"Millions of people follow their favorite team in every game.\",\n",
    "        \"This game helps kids stay active.\",\n",
    "        \"It is also called 'Soccer' in North America.\",\n",
    "        \"Ronaldo is the best!\"\n",
    "    ]\n",
    "}\n",
    "\n",
    "# Extract keywords for intent matching\n",
    "intent_database = list(responses.keys())\n",
    "\n",
    "print(\"Intent database:\", intent_database)\n",
    "\n",
    "# Start conversation\n",
    "conversation = True\n",
    "print('AI-BOT: Hello!')\n",
    "\n",
    "while conversation:\n",
    "    # Read user input\n",
    "    message = input('USER: ').strip().lower()\n",
    "    \n",
    "    # Remove punctuation\n",
    "    message = re.sub(r\"[,.?|;:]\", \"\", message)\n",
    "\n",
    "    # Split input into words\n",
    "    words = message.split()\n",
    "\n",
    "    # Check if user wants to end the conversation\n",
    "    if message == \"bye\":\n",
    "        print('AI-BOT: Goodbye!')\n",
    "        conversation = False\n",
    "        break\n",
    "\n",
    "    # Match user input with known intents\n",
    "    matched = False\n",
    "    for word in words:\n",
    "        if word in responses:\n",
    "            print('AI-BOT:', random.choice(responses[word]))\n",
    "            matched = True\n",
    "            break\n",
    "\n",
    "    # If no match is found, use a fallback response\n",
    "    if not matched:\n",
    "        print('AI-BOT:', random.choice(no_responses))\n"
   ]
  },
  {
   "cell_type": "markdown",
   "id": "394ef3be-074b-46bb-84c1-3ed980f057d1",
   "metadata": {},
   "source": [
    "# Toto je jeho pokracovanie"
   ]
  },
  {
   "cell_type": "code",
   "execution_count": 9,
   "id": "3e9c8efe-e018-4908-9d43-502623b220cb",
   "metadata": {},
   "outputs": [
    {
     "name": "stdout",
     "output_type": "stream",
     "text": [
      "Intent database: ['your name', 'weather', 'hockey', 'football']\n",
      "AI-BOT: Hello!\n"
     ]
    },
    {
     "name": "stdin",
     "output_type": "stream",
     "text": [
      "USER:  football, cpamcp..\n"
     ]
    },
    {
     "name": "stdout",
     "output_type": "stream",
     "text": [
      "AI-BOT: Ronaldo is the best!\n"
     ]
    },
    {
     "name": "stdin",
     "output_type": "stream",
     "text": [
      "USER:  hockey,dqp\n"
     ]
    },
    {
     "name": "stdout",
     "output_type": "stream",
     "text": [
      "AI-BOT: Good winter game!\n"
     ]
    },
    {
     "name": "stdin",
     "output_type": "stream",
     "text": [
      "USER:  your name\n"
     ]
    },
    {
     "name": "stdout",
     "output_type": "stream",
     "text": [
      "AI-BOT: My name is AI-BOT.\n"
     ]
    },
    {
     "name": "stdin",
     "output_type": "stream",
     "text": [
      "USER:  name\n"
     ]
    },
    {
     "name": "stdout",
     "output_type": "stream",
     "text": [
      "AI-BOT: How long have you felt this way?\n"
     ]
    },
    {
     "name": "stdin",
     "output_type": "stream",
     "text": [
      "USER:  bye\n"
     ]
    },
    {
     "name": "stdout",
     "output_type": "stream",
     "text": [
      "AI-BOT: Goodbye!\n"
     ]
    }
   ],
   "source": [
    "import random\n",
    "import re\n",
    "\n",
    "# Set of fallback responses\n",
    "no_responses = [\n",
    "    \"I'm sorry, I didn't understand you.\",\n",
    "    \"Why do you think that?\",\n",
    "    \"How long have you felt this way?\",\n",
    "    \"Tell me more!\"\n",
    "]\n",
    "\n",
    "# Dictionary of responses\n",
    "responses = {\n",
    "    \"your name\": [\n",
    "        \"My name is AI-BOT.\",\n",
    "        \"They call me AI-BOT.\",\n",
    "        \"I go by AI-BOT.\"\n",
    "    ],\n",
    "    \"weather\": [\n",
    "        \"The weather is sunny.\",\n",
    "        \"It's sunny today.\"\n",
    "    ],\n",
    "    \"hockey\": [\n",
    "        \"Good winter game!\",\n",
    "        \"We have to wait until the lake is frozen.\"\n",
    "    ],\n",
    "    \"football\": [\n",
    "        \"Millions of people follow their favorite team in every game.\",\n",
    "        \"This game helps kids stay active.\",\n",
    "        \"It is also called 'Soccer' in North America.\",\n",
    "        \"Ronaldo is the best!\"\n",
    "    ]\n",
    "}\n",
    "\n",
    "# Extract keywords for intent matching\n",
    "intent_database = list(responses.keys())\n",
    "\n",
    "print(\"Intent database:\", intent_database)\n",
    "\n",
    "# Start conversation\n",
    "print('AI-BOT: Hello!')\n",
    "conversation = True\n",
    "\n",
    "while conversation:\n",
    "    # Read user input\n",
    "    message = input('USER: ').strip().lower()\n",
    "    \n",
    "    # Remove punctuation\n",
    "    message = re.sub(r\"[,.?|;:]\", \"\", message)\n",
    "\n",
    "    # Check if user wants to end the conversation\n",
    "    if message == \"bye\":\n",
    "        print('AI-BOT: Goodbye!')\n",
    "        break\n",
    "\n",
    "    # Check if any intent phrase is in the user's input\n",
    "    matched = False\n",
    "    for intent in intent_database:\n",
    "        if intent in message:  # ✅ Checks if intent phrase appears in input\n",
    "            print('AI-BOT:', random.choice(responses[intent]))\n",
    "            matched = True\n",
    "            break\n",
    "\n",
    "    # If no match is found, use a fallback response\n",
    "    if not matched:\n",
    "        print('AI-BOT:', random.choice(no_responses))\n"
   ]
  },
  {
   "cell_type": "markdown",
   "id": "0f9cdfca-aa08-460c-841f-1507253d04c4",
   "metadata": {},
   "source": [
    "# Teraz ideme do toho pridat stack s pop"
   ]
  },
  {
   "cell_type": "code",
   "execution_count": 3,
   "id": "78c5c221-a050-4561-8303-fc2b72724b88",
   "metadata": {},
   "outputs": [
    {
     "name": "stdout",
     "output_type": "stream",
     "text": [
      "Intent database: ['your name', 'weather', 'hockey', 'football']\n",
      "AI-BOT: Hello!\n"
     ]
    },
    {
     "name": "stdin",
     "output_type": "stream",
     "text": [
      "USER:  ksk\n"
     ]
    },
    {
     "name": "stdout",
     "output_type": "stream",
     "text": [
      "AI-BOT: Why do you think that?\n",
      "DEBUG - Responded to: None\n",
      "DEBUG - Keywords Found List: []\n"
     ]
    },
    {
     "name": "stdin",
     "output_type": "stream",
     "text": [
      "USER:  your name hockey\n"
     ]
    },
    {
     "name": "stdout",
     "output_type": "stream",
     "text": [
      "AI-BOT: We have to wait until the lake is frozen.\n",
      "DEBUG - Responded to: hockey\n",
      "DEBUG - Keywords Found List: ['your name']\n"
     ]
    },
    {
     "name": "stdin",
     "output_type": "stream",
     "text": [
      "USER:  football\n"
     ]
    },
    {
     "name": "stdout",
     "output_type": "stream",
     "text": [
      "AI-BOT: It is also called 'Soccer' in North America.\n",
      "DEBUG - Responded to: football\n",
      "DEBUG - Keywords Found List: ['your name']\n"
     ]
    },
    {
     "name": "stdin",
     "output_type": "stream",
     "text": [
      "USER:  kkk\n"
     ]
    },
    {
     "name": "stdout",
     "output_type": "stream",
     "text": [
      "AI-BOT: I go by AI-BOT.\n",
      "DEBUG - Responded to: None\n",
      "DEBUG - Keywords Found List: []\n"
     ]
    },
    {
     "name": "stdin",
     "output_type": "stream",
     "text": [
      "USER:  kk\n"
     ]
    },
    {
     "name": "stdout",
     "output_type": "stream",
     "text": [
      "AI-BOT: Tell me more!\n",
      "DEBUG - Responded to: None\n",
      "DEBUG - Keywords Found List: []\n"
     ]
    },
    {
     "name": "stdin",
     "output_type": "stream",
     "text": [
      "USER:  kk\n"
     ]
    },
    {
     "name": "stdout",
     "output_type": "stream",
     "text": [
      "AI-BOT: How long have you felt this way?\n",
      "DEBUG - Responded to: None\n",
      "DEBUG - Keywords Found List: []\n"
     ]
    },
    {
     "name": "stdin",
     "output_type": "stream",
     "text": [
      "USER:  kk\n"
     ]
    },
    {
     "name": "stdout",
     "output_type": "stream",
     "text": [
      "AI-BOT: Tell me more!\n",
      "DEBUG - Responded to: None\n",
      "DEBUG - Keywords Found List: []\n"
     ]
    },
    {
     "name": "stdin",
     "output_type": "stream",
     "text": [
      "USER:  bye\n"
     ]
    },
    {
     "name": "stdout",
     "output_type": "stream",
     "text": [
      "AI-BOT: Goodbye!\n"
     ]
    }
   ],
   "source": [
    "import random\n",
    "import re\n",
    "\n",
    "# Set of fallback responses\n",
    "no_responses = [\n",
    "    \"I'm sorry, I didn't understand you.\",\n",
    "    \"Why do you think that?\",\n",
    "    \"How long have you felt this way?\",\n",
    "    \"Tell me more!\"\n",
    "]\n",
    "\n",
    "# Dictionary of responses\n",
    "responses = {\n",
    "    \"your name\": [\n",
    "        \"My name is AI-BOT.\",\n",
    "        \"They call me AI-BOT.\",\n",
    "        \"I go by AI-BOT.\"\n",
    "    ],\n",
    "    \"weather\": [\n",
    "        \"The weather is sunny.\",\n",
    "        \"It's sunny today.\"\n",
    "    ],\n",
    "    \"hockey\": [\n",
    "        \"Good winter game!\",\n",
    "        \"We have to wait until the lake is frozen.\"\n",
    "    ],\n",
    "    \"football\": [\n",
    "        \"Millions of people follow their favorite team in every game.\",\n",
    "        \"This game helps kids stay active.\",\n",
    "        \"It is also called 'Soccer' in North America.\",\n",
    "        \"Ronaldo is the best!\"\n",
    "    ]\n",
    "}\n",
    "\n",
    "# Extract keywords for intent matching\n",
    "intent_database = list(responses.keys())\n",
    "\n",
    "print(\"Intent database:\", intent_database)\n",
    "\n",
    "# Stack (LIFO) for tracking found keywords\n",
    "keywords_found = []\n",
    "\n",
    "# Start conversation\n",
    "print('AI-BOT: Hello!')\n",
    "conversation = True\n",
    "\n",
    "while conversation:\n",
    "    # Read user input\n",
    "    message = input('USER: ').strip().lower()\n",
    "    \n",
    "    # Remove punctuation\n",
    "    message = re.sub(r\"[,.?|;:]\", \"\", message)\n",
    "\n",
    "    # Check if user wants to end the conversation\n",
    "    if message == \"bye\":\n",
    "        print('AI-BOT: Goodbye!')\n",
    "        break\n",
    "\n",
    "    responded = False  # Track if the bot has responded this turn\n",
    "    found_keywords = []  # Temporary list for newly found keywords\n",
    "\n",
    "    # **1️⃣ First, find new keywords and store them**\n",
    "    for intent in intent_database:\n",
    "        if intent in message:\n",
    "            found_keywords.append(intent)  # Store newly found keywords\n",
    "\n",
    "    # **2️⃣ If we found new keywords, respond to the LAST one (LIFO behavior)**\n",
    "    if found_keywords:\n",
    "        last_found = found_keywords[-1]  # Get the last keyword found\n",
    "        print('AI-BOT:', random.choice(responses[last_found]))\n",
    "        responded = True\n",
    "\n",
    "        # Add all new keywords to keywords_found (if not already present)\n",
    "        for keyword in found_keywords:\n",
    "            if keyword not in keywords_found:\n",
    "                keywords_found.append(keyword)\n",
    "\n",
    "        # Remove the responded keyword from the queue (LIFO)\n",
    "        keywords_found.remove(last_found)\n",
    "\n",
    "    # **3️⃣ If no keyword was found in input, respond to the LAST stored one**\n",
    "    elif keywords_found:\n",
    "        last_stored = keywords_found.pop()  # Get the last stored keyword (LIFO)\n",
    "        print('AI-BOT:', random.choice(responses[last_stored]))\n",
    "        responded = True\n",
    "\n",
    "    # **4️⃣ If no keyword is found anywhere, use fallback response**\n",
    "    if not responded:\n",
    "        print('AI-BOT:', random.choice(no_responses))\n",
    "\n",
    "    # Print debug info\n",
    "    print(f\"DEBUG - Responded to: {found_keywords[-1] if found_keywords else 'None'}\")\n",
    "    print(\"DEBUG - Keywords Found List:\", keywords_found)\n"
   ]
  },
  {
   "cell_type": "markdown",
   "id": "9647ecae-e184-4221-97be-6b3defc815b5",
   "metadata": {},
   "source": [
    "re\n",
    "re.serch()\n",
    "re.match()"
   ]
  },
  {
   "cell_type": "code",
   "execution_count": null,
   "id": "ebaa3946-e4d5-45ae-8ac9-1a707c7d8133",
   "metadata": {},
   "outputs": [
    {
     "name": "stdout",
     "output_type": "stream",
     "text": [
      "Intent database: ['hello', 'i feel (.*)', 'i am (.*)', \"i'm (.*)\", 'i (.*) myself', '(.*) sorry (.*)', '(.*) friend (.*)', '(.*) mother(.*)', '(.*) father(.*)', 'yes', 'no', '(.*) your name(.*)', '(.*) weather(.*)', '(.*) hockey(.*)', '(.*) football(.*)']\n",
      "AI-BOT: Hello!\n"
     ]
    },
    {
     "name": "stdin",
     "output_type": "stream",
     "text": [
      "USER:  father\n"
     ]
    },
    {
     "name": "stdout",
     "output_type": "stream",
     "text": [
      "AI-BOT: Tell me more!\n",
      "DEBUG - Keywords Found List: []\n"
     ]
    }
   ],
   "source": [
    "import random\n",
    "import re\n",
    "\n",
    "# Set of fallback responses\n",
    "no_responses = [\n",
    "    \"I'm sorry, I didn't understand you.\",\n",
    "    \"Why do you think that?\",\n",
    "    \"How long have you felt this way?\",\n",
    "    \"Tell me more!\"\n",
    "]\n",
    "\n",
    "# Dictionary of regex-based responses\n",
    "responses = {\n",
    "    r\"hello\": [\"Hello, how can I help you?\"],\n",
    "    r\"i feel (.*)\": [\"Why do you feel {}?\", \"How long have you been feeling {}?\"],\n",
    "    r\"i am (.*)\": [\"How long have you been {}?\", \"Why do you say you are {}?\"],\n",
    "    r\"i'm (.*)\": [\"Why are you {}?\", \"How long have you been {}?\"],\n",
    "    r\"i (.*) myself\": [\"Why do you {} yourself?\", \"What makes you think you {} yourself?\"],\n",
    "    r\"(.*) sorry (.*)\": [\"There is no need to apologize.\", \"What are you apologizing for?\"],\n",
    "    r\"(.*) friend (.*)\": [\"Tell me more about your friends.\"],\n",
    "    r\"(.*) mother(.*)\": [\"Tell me more about your family.\"],\n",
    "    r\"(.*) father(.*)\": [\"Tell me more about your family.\"],\n",
    "    r\"yes\": [\"You seem quite sure.\", \"OK, but can you elaborate?\"],\n",
    "    r\"no\": [\"Why not?\", \"OK, but can you elaborate a bit?\"],\n",
    "    r\"(.*) your name(.*)\": [\"My name is AI-BOT.\", \"They call me AI-BOT.\", \"I go by AI-BOT.\"],\n",
    "    r\"(.*) weather(.*)\": [\"The weather is sunny.\", \"It's sunny today.\"],\n",
    "    r\"(.*) hockey(.*)\": [\"Good winter game!\", \"We have to wait for the lake to be frozen.\"],\n",
    "    r\"(.*) football(.*)\": [\n",
    "        \"Millions of people follow their favorite team in every game.\",\n",
    "        \"This game helps kids stay active.\",\n",
    "        \"It is also called 'Soccer' in North America.\",\n",
    "        \"Ronaldo is the best!\"\n",
    "    ]\n",
    "}\n",
    "\n",
    "# Extract regex patterns (keys)\n",
    "intent_database = list(responses.keys())\n",
    "\n",
    "print(\"Intent database:\", intent_database)\n",
    "\n",
    "# Stack (LIFO) for tracking found intents\n",
    "keywords_found = []\n",
    "\n",
    "# Function to match user input against patterns\n",
    "def match_response(message):\n",
    "    found_intents = []  # Temporary list for newly found intents\n",
    "\n",
    "    # Search for all patterns in the message\n",
    "    for pattern, response_list in responses.items():\n",
    "        matches = re.finditer(pattern, message.lower())  # Find ALL matches\n",
    "        for match in matches:\n",
    "            found_intents.append((pattern, match.groups()))  # Store pattern & matched words\n",
    "\n",
    "    # If we found intents, return the last matched one (LIFO)\n",
    "    if found_intents:\n",
    "        last_found, groups = found_intents[-1]  # Get the last matched pattern\n",
    "        response_template = random.choice(responses[last_found])  # Select random response\n",
    "\n",
    "        # Format response if there are captured groups\n",
    "        response = response_template.format(*groups) if groups else response_template\n",
    "\n",
    "        # Store all matched intents in the stack (LIFO)\n",
    "        for pattern, _ in found_intents:\n",
    "            if pattern not in keywords_found:\n",
    "                keywords_found.append(pattern)\n",
    "\n",
    "        return response\n",
    "\n",
    "    # If no new match was found, use the last stored intent\n",
    "    elif keywords_found:\n",
    "        last_stored = keywords_found.pop()  # Get and remove the last stored keyword\n",
    "        return random.choice(responses[last_stored])\n",
    "\n",
    "    # If no match at all, return a fallback response\n",
    "    return random.choice(no_responses)\n",
    "\n",
    "# Start conversation\n",
    "print('AI-BOT: Hello!')\n",
    "conversation = True\n",
    "\n",
    "while conversation:\n",
    "    # Read user input\n",
    "    message = input('USER: ').strip().lower()\n",
    "\n",
    "    # Remove punctuation\n",
    "    message = re.sub(r\"[,.?|;:]\", \"\", message)\n",
    "\n",
    "    # Check if user wants to end the conversation\n",
    "    if message == \"bye\":\n",
    "        print('AI-BOT: Goodbye!')\n",
    "        break\n",
    "\n",
    "    # Get the AI response\n",
    "    response = match_response(message)\n",
    "\n",
    "    print('AI-BOT:', response)\n",
    "\n",
    "    # Debugging Info\n",
    "    print(\"DEBUG - Keywords Found List:\", keywords_found)\n"
   ]
  },
  {
   "cell_type": "code",
   "execution_count": null,
   "id": "2d2b2684-4364-4651-9bda-41e52f31c548",
   "metadata": {},
   "outputs": [],
   "source": []
  }
 ],
 "metadata": {
  "kernelspec": {
   "display_name": "Python 3 (ipykernel)",
   "language": "python",
   "name": "python3"
  },
  "language_info": {
   "codemirror_mode": {
    "name": "ipython",
    "version": 3
   },
   "file_extension": ".py",
   "mimetype": "text/x-python",
   "name": "python",
   "nbconvert_exporter": "python",
   "pygments_lexer": "ipython3",
   "version": "3.12.4"
  }
 },
 "nbformat": 4,
 "nbformat_minor": 5
}
