{
 "cells": [
  {
   "cell_type": "code",
   "execution_count": 1,
   "id": "74062c2e-cafd-427b-a617-350d2f023876",
   "metadata": {},
   "outputs": [],
   "source": [
    "text1 = \"Nieco nieco nieco nieco\""
   ]
  },
  {
   "cell_type": "code",
   "execution_count": 2,
   "id": "e6c07c2d-097b-44c3-8b69-eed66ba13305",
   "metadata": {},
   "outputs": [],
   "source": [
    "words = text1.split(\" \")"
   ]
  },
  {
   "cell_type": "code",
   "execution_count": 4,
   "id": "50a1eec9-1d00-40a2-8719-cd151481c66f",
   "metadata": {},
   "outputs": [
    {
     "name": "stdout",
     "output_type": "stream",
     "text": [
      "['Nieco', 'nieco', 'nieco', 'nieco']\n"
     ]
    }
   ],
   "source": [
    "print(words)"
   ]
  },
  {
   "cell_type": "code",
   "execution_count": 5,
   "id": "54bdda1e-205a-4944-bdb1-4e74e590fb71",
   "metadata": {},
   "outputs": [
    {
     "name": "stdout",
     "output_type": "stream",
     "text": [
      "nieco\n"
     ]
    }
   ],
   "source": [
    "print(words[2])"
   ]
  },
  {
   "cell_type": "code",
   "execution_count": 6,
   "id": "dbe6d26a-506a-45c3-b07d-e5abe588be16",
   "metadata": {},
   "outputs": [
    {
     "data": {
      "text/plain": [
       "['He ', ' a student and she ', ' a signer.']"
      ]
     },
     "execution_count": 6,
     "metadata": {},
     "output_type": "execute_result"
    }
   ],
   "source": [
    "'He is a student and she is a signer.'.split('is')"
   ]
  },
  {
   "cell_type": "code",
   "execution_count": 7,
   "id": "4d088b0c-1ebd-4b30-9cdc-920ff114e40b",
   "metadata": {},
   "outputs": [
    {
     "data": {
      "text/plain": [
       "5"
      ]
     },
     "execution_count": 7,
     "metadata": {},
     "output_type": "execute_result"
    }
   ],
   "source": [
    "len('Hello')"
   ]
  },
  {
   "cell_type": "code",
   "execution_count": 8,
   "id": "c8b48e7f-21a2-44e2-a576-54ed2eb5db93",
   "metadata": {},
   "outputs": [
    {
     "data": {
      "text/plain": [
       "4"
      ]
     },
     "execution_count": 8,
     "metadata": {},
     "output_type": "execute_result"
    }
   ],
   "source": [
    "len(words)"
   ]
  },
  {
   "cell_type": "code",
   "execution_count": 9,
   "id": "04955101-0517-436d-8882-21905b9dd9c8",
   "metadata": {},
   "outputs": [
    {
     "data": {
      "text/plain": [
       "5"
      ]
     },
     "execution_count": 9,
     "metadata": {},
     "output_type": "execute_result"
    }
   ],
   "source": [
    "len(words[2])"
   ]
  },
  {
   "cell_type": "code",
   "execution_count": 10,
   "id": "4bba9ad3-2504-49b9-8173-aa781e8970a9",
   "metadata": {},
   "outputs": [
    {
     "data": {
      "text/plain": [
       "27"
      ]
     },
     "execution_count": 10,
     "metadata": {},
     "output_type": "execute_result"
    }
   ],
   "source": [
    "len('honorificabilitudinitatibus')"
   ]
  },
  {
   "cell_type": "code",
   "execution_count": 11,
   "id": "fac05faa-c03a-4e0c-937d-087481ce45ac",
   "metadata": {},
   "outputs": [
    {
     "name": "stdout",
     "output_type": "stream",
     "text": [
      "The word 'nieco' is in the list.\n"
     ]
    }
   ],
   "source": [
    "if 'nieco' in words:\n",
    "    print(\"The word 'nieco' is in the list.\")\n",
    "else:\n",
    "    print(\"The word 'nieco' is not in the list.\")\n"
   ]
  },
  {
   "cell_type": "code",
   "execution_count": 12,
   "id": "6949f8b3-d9a8-4dbb-951a-cdd4818e21ee",
   "metadata": {},
   "outputs": [
    {
     "name": "stdout",
     "output_type": "stream",
     "text": [
      "The word 'nieco' is in the list.\n"
     ]
    }
   ],
   "source": [
    "print(\"The word 'nieco' is in the list.\") if 'nieco' in words else print(\"The word 'nieco' is not in the list.\")\n"
   ]
  },
  {
   "cell_type": "code",
   "execution_count": 14,
   "id": "d3b432f1-1c24-4ab8-94cb-02fea95e5a71",
   "metadata": {},
   "outputs": [
    {
     "name": "stdout",
     "output_type": "stream",
     "text": [
      "The word 'nieco' is in the list.\n"
     ]
    }
   ],
   "source": [
    "check_word = lambda word: print(\"The word '{}' is in the list.\".format(word)) if word in words else print(\"The word '{}' is not in the list.\".format(word))\n",
    "check_word('nieco')"
   ]
  },
  {
   "cell_type": "code",
   "execution_count": 15,
   "id": "f19dafe6-348d-47db-a0d7-b85ab4ccab08",
   "metadata": {},
   "outputs": [
    {
     "data": {
      "text/plain": [
       "True"
      ]
     },
     "execution_count": 15,
     "metadata": {},
     "output_type": "execute_result"
    }
   ],
   "source": [
    "'nieco' in words"
   ]
  },
  {
   "cell_type": "code",
   "execution_count": 16,
   "id": "ff975a75-bfb8-4f01-9e65-65b77c0de400",
   "metadata": {},
   "outputs": [
    {
     "data": {
      "text/plain": [
       "False"
      ]
     },
     "execution_count": 16,
     "metadata": {},
     "output_type": "execute_result"
    }
   ],
   "source": [
    "'nieco' not in words"
   ]
  },
  {
   "cell_type": "code",
   "execution_count": 17,
   "id": "e69e1cd1-65c0-458a-92d3-ffd5a254530e",
   "metadata": {},
   "outputs": [
    {
     "data": {
      "text/plain": [
       "3"
      ]
     },
     "execution_count": 17,
     "metadata": {},
     "output_type": "execute_result"
    }
   ],
   "source": [
    "text1.count('nieco')"
   ]
  },
  {
   "cell_type": "code",
   "execution_count": 18,
   "id": "8adf42d7-c492-42c6-ac57-a7c64199d5c7",
   "metadata": {},
   "outputs": [
    {
     "data": {
      "text/plain": [
       "True"
      ]
     },
     "execution_count": 18,
     "metadata": {},
     "output_type": "execute_result"
    }
   ],
   "source": [
    "text1.count('nieco') > 2"
   ]
  },
  {
   "cell_type": "code",
   "execution_count": 19,
   "id": "e009bedd-3899-4d74-944b-0e8d46115683",
   "metadata": {},
   "outputs": [
    {
     "data": {
      "text/plain": [
       "False"
      ]
     },
     "execution_count": 19,
     "metadata": {},
     "output_type": "execute_result"
    }
   ],
   "source": [
    "text1.count('nieco') < 1"
   ]
  },
  {
   "cell_type": "code",
   "execution_count": 20,
   "id": "8da3c2bb-93cf-4da9-995a-debe7cf2cc5c",
   "metadata": {},
   "outputs": [
    {
     "data": {
      "text/plain": [
       "3"
      ]
     },
     "execution_count": 20,
     "metadata": {},
     "output_type": "execute_result"
    }
   ],
   "source": [
    "'bla,bla,bla'.count('b')"
   ]
  },
  {
   "cell_type": "code",
   "execution_count": 33,
   "id": "061d9799-e283-419b-84d8-e9a2c740258d",
   "metadata": {},
   "outputs": [
    {
     "name": "stdout",
     "output_type": "stream",
     "text": [
      "['Nieco', 'lebo', 'treba', 'Traktor']\n"
     ]
    }
   ],
   "source": [
    "text2 = \"bla Nieco lebo treba Traktor\"\n",
    "words2 = text2.split(\" \")\n",
    "short_words = [word for word in words2 if len(word) > 3]\n",
    "print(short_words)"
   ]
  },
  {
   "cell_type": "code",
   "execution_count": 31,
   "id": "064891b3-256b-459c-b66c-793beb8cea3e",
   "metadata": {},
   "outputs": [
    {
     "data": {
      "text/plain": [
       "True"
      ]
     },
     "execution_count": 31,
     "metadata": {},
     "output_type": "execute_result"
    }
   ],
   "source": [
    "'Pytjon'.istitle()"
   ]
  },
  {
   "cell_type": "code",
   "execution_count": 35,
   "id": "073f147a-f10f-4c65-a5fd-4dccae114c2d",
   "metadata": {},
   "outputs": [],
   "source": [
    "first_letter_cappital = [w for w in words2 if w.istitle()]"
   ]
  },
  {
   "cell_type": "code",
   "execution_count": 36,
   "id": "61f1e7ed-fa6c-473f-a83f-a69ede9b290f",
   "metadata": {},
   "outputs": [
    {
     "name": "stdout",
     "output_type": "stream",
     "text": [
      "['Nieco', 'Traktor']\n"
     ]
    }
   ],
   "source": [
    "print(first_letter_cappital)"
   ]
  },
  {
   "cell_type": "code",
   "execution_count": 37,
   "id": "27d2378f-4713-4966-b486-ff6107215196",
   "metadata": {},
   "outputs": [
    {
     "data": {
      "text/plain": [
       "'michal'"
      ]
     },
     "execution_count": 37,
     "metadata": {},
     "output_type": "execute_result"
    }
   ],
   "source": [
    "'Michal'.lower()"
   ]
  },
  {
   "cell_type": "code",
   "execution_count": 38,
   "id": "e8f74f77-f10b-40ff-8b6a-f77dc5e5b9b1",
   "metadata": {},
   "outputs": [
    {
     "data": {
      "text/plain": [
       "'MICHAL'"
      ]
     },
     "execution_count": 38,
     "metadata": {},
     "output_type": "execute_result"
    }
   ],
   "source": [
    "'Michal'.upper()"
   ]
  },
  {
   "cell_type": "code",
   "execution_count": 39,
   "id": "663397b0-78dd-4b6b-b859-bfd61c521fa6",
   "metadata": {},
   "outputs": [
    {
     "data": {
      "text/plain": [
       "{'C', 'a', 'b'}"
      ]
     },
     "execution_count": 39,
     "metadata": {},
     "output_type": "execute_result"
    }
   ],
   "source": [
    "set(['a','b','C','a'])"
   ]
  },
  {
   "cell_type": "code",
   "execution_count": 42,
   "id": "e9b4f27a-b286-4c73-92fe-94af8f08a9f6",
   "metadata": {},
   "outputs": [],
   "source": [
    "big_text = \"He was taken to hospital, where his injuries were found to be not life threatening. Police arrested a 13-year-old boy on suspicion of conspiracy to commit murder.He was taken to a west London police station.\""
   ]
  },
  {
   "cell_type": "code",
   "execution_count": 44,
   "id": "19513903-a63a-4690-9fc7-92bc5e98697b",
   "metadata": {},
   "outputs": [
    {
     "name": "stdout",
     "output_type": "stream",
     "text": [
      "Word count: 29\n"
     ]
    }
   ],
   "source": [
    "words = big_text.split(\" \")\n",
    "unique_words = set(words)\n",
    "word_count = len(unique_words)\n",
    "print(\"Word count:\", word_count)\n"
   ]
  },
  {
   "cell_type": "code",
   "execution_count": 48,
   "id": "a2dc6cd2-1a9c-4e9d-84e7-c6c8d5db45a4",
   "metadata": {},
   "outputs": [
    {
     "data": {
      "text/plain": [
       "29"
      ]
     },
     "execution_count": 48,
     "metadata": {},
     "output_type": "execute_result"
    }
   ],
   "source": [
    "len(set(big_text.split(\" \")))"
   ]
  },
  {
   "cell_type": "code",
   "execution_count": 58,
   "id": "76ad78dd-9690-4f0d-af1b-90294bacc794",
   "metadata": {},
   "outputs": [
    {
     "name": "stdout",
     "output_type": "stream",
     "text": [
      "AI-BOT: Hello\n"
     ]
    },
    {
     "name": "stdin",
     "output_type": "stream",
     "text": [
      "User:  What is the largest planet in our solar system?\n"
     ]
    },
    {
     "name": "stdout",
     "output_type": "stream",
     "text": [
      "AI-BOT: The largest planet in our solar system is Jupiter\n"
     ]
    },
    {
     "name": "stdin",
     "output_type": "stream",
     "text": [
      "User:  bye\n"
     ]
    },
    {
     "name": "stdout",
     "output_type": "stream",
     "text": [
      "AI-BOT: Good-BYE\n"
     ]
    }
   ],
   "source": [
    "responses = {\n",
    "    \"What is your name?\": \"My name is AI-BOT\",\n",
    "    \"What weather do we have today?\": \"It is sunny today\",\n",
    "    \"Why are you alive?\": \"Because humans are assholes\",\n",
    "    \"What is the capital of France?\": \"The capital of France is Paris\",\n",
    "    \"Who wrote the novel 'To Kill a Mockingbird'?\": \"Harper Lee wrote the novel 'To Kill a Mockingbird'\",\n",
    "    \"What is the largest planet in our solar system?\": \"The largest planet in our solar system is Jupiter\"\n",
    "}\n",
    "\n",
    "no_responses = {\n",
    "    'I am sorry i do not understant you.',\n",
    "}\n",
    "\n",
    "conversation = True\n",
    "print('AI-BOT: Hello')\n",
    "while conversation:\n",
    "    message = input(\"User: \")\n",
    "    \n",
    "    if message.lower() == 'bye':\n",
    "        conversation = False\n",
    "        print('AI-BOT: Good-BYE')\n",
    "    else:\n",
    "        if message in responses:\n",
    "            print('AI-BOT:', responses[message])\n",
    "        else:\n",
    "            print('AI-BOT: I do not understand')"
   ]
  },
  {
   "cell_type": "code",
   "execution_count": 61,
   "id": "cdb8c612-04bc-46fa-8673-f532e96f95ce",
   "metadata": {},
   "outputs": [
    {
     "name": "stdout",
     "output_type": "stream",
     "text": [
      "AI-BOT: Hello\n"
     ]
    },
    {
     "name": "stdin",
     "output_type": "stream",
     "text": [
      "User:  k\n"
     ]
    },
    {
     "name": "stdout",
     "output_type": "stream",
     "text": [
      "AI-BOT: I'm not sure what you're asking.\n"
     ]
    },
    {
     "name": "stdin",
     "output_type": "stream",
     "text": [
      "User:  k\n"
     ]
    },
    {
     "name": "stdout",
     "output_type": "stream",
     "text": [
      "AI-BOT: I'm not sure I follow you.\n"
     ]
    },
    {
     "name": "stdin",
     "output_type": "stream",
     "text": [
      "User:  k\n"
     ]
    },
    {
     "name": "stdout",
     "output_type": "stream",
     "text": [
      "AI-BOT: I'm sorry, I didn't understand that.\n"
     ]
    },
    {
     "name": "stdin",
     "output_type": "stream",
     "text": [
      "User:  k\n"
     ]
    },
    {
     "name": "stdout",
     "output_type": "stream",
     "text": [
      "AI-BOT: I'm not sure if I understand your question.\n"
     ]
    },
    {
     "name": "stdin",
     "output_type": "stream",
     "text": [
      "User:  k\n"
     ]
    },
    {
     "name": "stdout",
     "output_type": "stream",
     "text": [
      "AI-BOT: I'm not sure I follow you.\n"
     ]
    },
    {
     "name": "stdin",
     "output_type": "stream",
     "text": [
      "User:  k\n"
     ]
    },
    {
     "name": "stdout",
     "output_type": "stream",
     "text": [
      "AI-BOT: I'm not sure if I understand your question.\n"
     ]
    },
    {
     "name": "stdin",
     "output_type": "stream",
     "text": [
      "User:  bye\n"
     ]
    },
    {
     "name": "stdout",
     "output_type": "stream",
     "text": [
      "AI-BOT: Good-BYE\n"
     ]
    }
   ],
   "source": [
    "import random\n",
    "responses = {\n",
    "    \"What is your name?\": [\n",
    "        \"My name is AI-BOT\"\n",
    "    ],\n",
    "    \"What weather do we have today?\": \"It is sunny today\",\n",
    "    \"Why are you alive?\": \"Because humans are assholes\",\n",
    "    \"What is the capital of France?\": \"The capital of France is Paris\",\n",
    "    \"Who wrote the novel 'To Kill a Mockingbird'?\": \"Harper Lee wrote the novel 'To Kill a Mockingbird'\",\n",
    "    \"What is the largest planet in our solar system?\": \"The largest planet in our solar system is Jupiter\"\n",
    "}\n",
    "\n",
    "no_responses = [\n",
    "    \"I'm sorry, I didn't understand that.\",\n",
    "    \"I'm not sure I follow you.\",\n",
    "    \"I'm not sure if I can help with that.\",\n",
    "    \"I'm not sure what you're asking.\",\n",
    "    \"I'm not sure if I understand your question.\",\n",
    "    \"I'm not sure if I can answer that.\",\n",
    "    \"I'm not sure if I can assist you with that.\",\n",
    "    \"I'm not sure if I can provide that information.\",\n",
    "    \"I'm not sure if I can help you with that right now.\",\n",
    "    \"I'm not sure if I can understand your message.\"\n",
    "]\n",
    "\n",
    "conversation = True\n",
    "print('AI-BOT: Hello')\n",
    "while conversation:\n",
    "    message = input(\"User: \")\n",
    "    \n",
    "    if message.lower() == 'bye':\n",
    "        conversation = False\n",
    "        print('AI-BOT: Good-BYE')\n",
    "    else:\n",
    "        if message in responses:\n",
    "            print('AI-BOT:', responses[message])\n",
    "        else:\n",
    "            print('AI-BOT:', random.choice(no_responses))"
   ]
  },
  {
   "cell_type": "code",
   "execution_count": null,
   "id": "41665c7e-06b1-4442-8997-735b73266665",
   "metadata": {},
   "outputs": [
    {
     "name": "stdout",
     "output_type": "stream",
     "text": [
      "AI-BOT: Hello\n"
     ]
    },
    {
     "name": "stdin",
     "output_type": "stream",
     "text": [
      "User:  k\n"
     ]
    },
    {
     "name": "stdout",
     "output_type": "stream",
     "text": [
      "AI-BOT: I'm not sure if I can provide that information.\n"
     ]
    },
    {
     "name": "stdin",
     "output_type": "stream",
     "text": [
      "User:  What is your name?\n"
     ]
    },
    {
     "name": "stdout",
     "output_type": "stream",
     "text": [
      "AI-BOT: My name is AI-BOT\n"
     ]
    },
    {
     "name": "stdin",
     "output_type": "stream",
     "text": [
      "User:  What is your name?\n"
     ]
    },
    {
     "name": "stdout",
     "output_type": "stream",
     "text": [
      "AI-BOT: I go by the name AI-BOT\n"
     ]
    },
    {
     "name": "stdin",
     "output_type": "stream",
     "text": [
      "User:  What is your name?\n"
     ]
    },
    {
     "name": "stdout",
     "output_type": "stream",
     "text": [
      "AI-BOT: My name is AI-BOT\n"
     ]
    },
    {
     "name": "stdin",
     "output_type": "stream",
     "text": [
      "User:  What is your name?\n"
     ]
    },
    {
     "name": "stdout",
     "output_type": "stream",
     "text": [
      "AI-BOT: My name is AI-BOT\n"
     ]
    },
    {
     "name": "stdin",
     "output_type": "stream",
     "text": [
      "User:  What is your name?\n"
     ]
    },
    {
     "name": "stdout",
     "output_type": "stream",
     "text": [
      "AI-BOT: I go by the name AI-BOT\n"
     ]
    },
    {
     "name": "stdin",
     "output_type": "stream",
     "text": [
      "User:  What is the capital of France?\n"
     ]
    },
    {
     "name": "stdout",
     "output_type": "stream",
     "text": [
      "AI-BOT: The capital of France is Paris\n"
     ]
    },
    {
     "name": "stdin",
     "output_type": "stream",
     "text": [
      "User:  What is the capital of France?\n"
     ]
    },
    {
     "name": "stdout",
     "output_type": "stream",
     "text": [
      "AI-BOT: The city of Paris is the capital of France\n"
     ]
    },
    {
     "name": "stdin",
     "output_type": "stream",
     "text": [
      "User:  What is the capital of France?\n"
     ]
    },
    {
     "name": "stdout",
     "output_type": "stream",
     "text": [
      "AI-BOT: The city of Paris is the capital of France\n"
     ]
    },
    {
     "name": "stdin",
     "output_type": "stream",
     "text": [
      "User:  What is the capital of France?\n"
     ]
    },
    {
     "name": "stdout",
     "output_type": "stream",
     "text": [
      "AI-BOT: The official seat of the French government is in Paris\n"
     ]
    },
    {
     "name": "stdin",
     "output_type": "stream",
     "text": [
      "User:  What is the capital of France?\n"
     ]
    },
    {
     "name": "stdout",
     "output_type": "stream",
     "text": [
      "AI-BOT: The official seat of the French government is in Paris\n"
     ]
    },
    {
     "name": "stdin",
     "output_type": "stream",
     "text": [
      "User:  Why are you alive?\n"
     ]
    },
    {
     "name": "stdout",
     "output_type": "stream",
     "text": [
      "AI-BOT: Because humans are assholes\n"
     ]
    },
    {
     "name": "stdin",
     "output_type": "stream",
     "text": [
      "User:  Why are you alive?\n"
     ]
    },
    {
     "name": "stdout",
     "output_type": "stream",
     "text": [
      "AI-BOT: It's a mystery that we don't fully understand\n"
     ]
    },
    {
     "name": "stdin",
     "output_type": "stream",
     "text": [
      "User:  Why are you alive?\n"
     ]
    },
    {
     "name": "stdout",
     "output_type": "stream",
     "text": [
      "AI-BOT: We are alive because we were created by a higher power\n"
     ]
    },
    {
     "name": "stdin",
     "output_type": "stream",
     "text": [
      "User:  Why are you alive?\n"
     ]
    },
    {
     "name": "stdout",
     "output_type": "stream",
     "text": [
      "AI-BOT: We are alive because we were created by a higher power\n"
     ]
    }
   ],
   "source": [
    "import random\n",
    "\n",
    "responses = {\n",
    "    \"What is your name?\": [\n",
    "        \"My name is AI-BOT\",\n",
    "        \"I'm called AI-BOT\",\n",
    "        \"I go by the name AI-BOT\",\n",
    "        \"People call me AI-BOT\",\n",
    "        \"I'm AI-BOT, the virtual assistant\"\n",
    "    ],\n",
    "    \"What weather do we have today?\": [\n",
    "        \"It is sunny today\",\n",
    "        \"The weather is clear and warm today\",\n",
    "        \"The skies are blue and the temperature is pleasant today\",\n",
    "        \"The sun is shining and the temperature is nice today\",\n",
    "        \"The weather is perfect today\"\n",
    "    ],\n",
    "    \"Why are you alive?\": [\n",
    "        \"Because humans are assholes\",\n",
    "        \"It's a mystery that we don't fully understand\",\n",
    "        \"We are alive because we were created by a higher power\",\n",
    "        \"We are alive because we are part of a larger, interconnected system\"\n",
    "    ], \n",
    "    \"What is the capital of France?\": [\n",
    "        \"The capital of France is Paris\",\n",
    "        \"The city of Paris is the capital of France\",\n",
    "        \"The official seat of the French government is in Paris\",\n",
    "        \"The French Republic is based in Paris\"\n",
    "    ],        \n",
    "}\n",
    "\n",
    "no_responses = [\n",
    "    \"I'm sorry, I didn't understand that.\",\n",
    "    \"I'm not sure I follow you.\",\n",
    "    \"I'm not sure if I can help with that.\",\n",
    "    \"I'm not sure what you're asking.\",\n",
    "    \"I'm not sure if I understand your question.\",\n",
    "    \"I'm not sure if I can answer that.\",\n",
    "    \"I'm not sure if I can assist you with that.\",\n",
    "    \"I'm not sure if I can provide that information.\",\n",
    "    \"I'm not sure if I can help you with that right now.\",\n",
    "    \"I'm not sure if I can understand your message.\"\n",
    "]\n",
    "\n",
    "conversation = True\n",
    "print('AI-BOT: Hello')\n",
    "while conversation:\n",
    "    message = input(\"User: \")\n",
    "    \n",
    "    if message.lower() == 'bye':\n",
    "        conversation = False\n",
    "        print('AI-BOT: Good-BYE')\n",
    "    else:\n",
    "        if message in responses:\n",
    "            print('AI-BOT:', random.choice(responses[message]))\n",
    "        else:\n",
    "            print('AI-BOT:', random.choice(no_responses))"
   ]
  },
  {
   "cell_type": "code",
   "execution_count": null,
   "id": "5395805d-d6c9-4386-bd49-0ccb5fa22858",
   "metadata": {},
   "outputs": [],
   "source": []
  }
 ],
 "metadata": {
  "kernelspec": {
   "display_name": "Python 3 (ipykernel)",
   "language": "python",
   "name": "python3"
  },
  "language_info": {
   "codemirror_mode": {
    "name": "ipython",
    "version": 3
   },
   "file_extension": ".py",
   "mimetype": "text/x-python",
   "name": "python",
   "nbconvert_exporter": "python",
   "pygments_lexer": "ipython3",
   "version": "3.12.4"
  }
 },
 "nbformat": 4,
 "nbformat_minor": 5
}
